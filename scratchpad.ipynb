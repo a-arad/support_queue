{
 "cells": [
  {
   "cell_type": "code",
   "execution_count": 1,
   "id": "6b0ba2a4-6546-4e6b-b5ab-4018c893ab72",
   "metadata": {},
   "outputs": [],
   "source": [
    "from data_generator import *"
   ]
  },
  {
   "cell_type": "code",
   "execution_count": 2,
   "id": "b332a3a8-b59e-4edf-b19a-8cd8245be55e",
   "metadata": {},
   "outputs": [
    {
     "name": "stdout",
     "output_type": "stream",
     "text": [
      "company_id is numeric, changing to integer\n",
      "company_size is numeric, changing to integer\n",
      "user_id is numeric, changing to integer\n",
      "company_id is numeric, changing to integer\n",
      "staff_id is numeric, changing to integer\n",
      "ticket_id is numeric, changing to integer\n",
      "user_id is numeric, changing to integer\n",
      "company_id is numeric, changing to integer\n",
      "created_at is a timestamp, changing now\n",
      "ticket_id is numeric, changing to integer\n",
      "timestamp is a timestamp, changing now\n",
      "ticket_id is numeric, changing to integer\n",
      "staff_id is numeric, changing to integer\n",
      "matched_at is a timestamp, changing now\n"
     ]
    }
   ],
   "source": [
    "data = support_queue_data_generator()"
   ]
  },
  {
   "cell_type": "code",
   "execution_count": 6,
   "id": "e8d9aaae-ccff-4e0b-8dc9-b5dfbe55b136",
   "metadata": {},
   "outputs": [
    {
     "data": {
      "text/plain": [
       "dict"
      ]
     },
     "execution_count": 6,
     "metadata": {},
     "output_type": "execute_result"
    }
   ],
   "source": [
    "type(data)"
   ]
  },
  {
   "cell_type": "markdown",
   "id": "21e40dec-c621-42bb-9878-daa53c77d437",
   "metadata": {},
   "source": [
    "```\n",
    "\n",
    "CREATE TABLE companies (\n",
    "    company_id SERIAL PRIMARY KEY,\n",
    "    company_name TEXT NOT NULL,\n",
    "    company_size INTEGER NOT NULL\n",
    ");\n",
    "\n",
    "CREATE TABLE users (\n",
    "    user_id SERIAL PRIMARY KEY,\n",
    "    user_name TEXT NOT NULL,\n",
    "    company_id INTEGER REFERENCES companies(company_id)\n",
    ");\n",
    "\n",
    "CREATE TABLE support_staff (\n",
    "    staff_id SERIAL PRIMARY KEY,\n",
    "    staff_name TEXT NOT NULL,\n",
    "    experience_level TEXT NOT NULL\n",
    ");\n",
    "\n",
    "CREATE TABLE support_tickets (\n",
    "    ticket_id SERIAL PRIMARY KEY,\n",
    "    user_id INTEGER REFERENCES users(user_id),\n",
    "    company_id INTEGER REFERENCES companies(company_id),\n",
    "    issue_category TEXT NOT NULL,\n",
    "    created_at TIMESTAMP NOT NULL\n",
    ");\n",
    "\n",
    "CREATE TABLE ticket_status (\n",
    "    status_id SERIAL PRIMARY KEY,\n",
    "    ticket_id INTEGER REFERENCES support_tickets(ticket_id),\n",
    "    status TEXT NOT NULL,\n",
    "    timestamp TIMESTAMP NOT NULL\n",
    ");\n",
    "\n",
    "CREATE TABLE matches (\n",
    "    match_id SERIAL PRIMARY KEY,\n",
    "    ticket_id INTEGER REFERENCES support_tickets(ticket_id),\n",
    "    staff_id INTEGER REFERENCES support_staff(staff_id),\n",
    "    matched_at TIMESTAMP NOT NULL\n",
    ");\n",
    "```"
   ]
  },
  {
   "cell_type": "code",
   "execution_count": 3,
   "id": "f019b114-cf79-4ccd-8b9e-8f5f6ef12063",
   "metadata": {},
   "outputs": [],
   "source": [
    "# EDA\n",
    "import pandas as pd\n",
    "import matplotlib.pyplot as plt\n",
    "\n",
    "# calculate wait times...\n",
    "ticket_match = pd.merge(data[\"support_tickets\"],data[\"matches\"], on = \"ticket_id\",how = \"left\")"
   ]
  },
  {
   "cell_type": "code",
   "execution_count": 4,
   "id": "7cf6fce1-5d88-4f40-90eb-4fb34c94a086",
   "metadata": {},
   "outputs": [],
   "source": [
    "# perform the calculation\n",
    "# matched_at - created_at\n",
    "\n",
    "wait_times = pd.to_datetime(ticket_match['matched_at']) - pd.to_datetime(ticket_match['created_at'])\n",
    "ticket_match['wait_times'] = wait_times"
   ]
  },
  {
   "cell_type": "code",
   "execution_count": 5,
   "id": "2816144a-c22e-48f7-855f-e10985c60dd1",
   "metadata": {},
   "outputs": [
    {
     "data": {
      "text/html": [
       "<div>\n",
       "<style scoped>\n",
       "    .dataframe tbody tr th:only-of-type {\n",
       "        vertical-align: middle;\n",
       "    }\n",
       "\n",
       "    .dataframe tbody tr th {\n",
       "        vertical-align: top;\n",
       "    }\n",
       "\n",
       "    .dataframe thead th {\n",
       "        text-align: right;\n",
       "    }\n",
       "</style>\n",
       "<table border=\"1\" class=\"dataframe\">\n",
       "  <thead>\n",
       "    <tr style=\"text-align: right;\">\n",
       "      <th></th>\n",
       "      <th>ticket_id</th>\n",
       "      <th>user_id</th>\n",
       "      <th>company_id</th>\n",
       "      <th>issue_category</th>\n",
       "      <th>created_at</th>\n",
       "      <th>staff_id</th>\n",
       "      <th>matched_at</th>\n",
       "      <th>wait_times</th>\n",
       "    </tr>\n",
       "  </thead>\n",
       "  <tbody>\n",
       "    <tr>\n",
       "      <th>0</th>\n",
       "      <td>1</td>\n",
       "      <td>11</td>\n",
       "      <td>35</td>\n",
       "      <td>Account</td>\n",
       "      <td>2024-06-13 00:15:09.017292</td>\n",
       "      <td>44</td>\n",
       "      <td>2024-06-13 00:16:54.017292</td>\n",
       "      <td>0 days 00:01:45</td>\n",
       "    </tr>\n",
       "    <tr>\n",
       "      <th>1</th>\n",
       "      <td>2</td>\n",
       "      <td>32</td>\n",
       "      <td>21</td>\n",
       "      <td>Technical</td>\n",
       "      <td>2024-03-02 11:08:53.017292</td>\n",
       "      <td>32</td>\n",
       "      <td>2024-03-02 11:16:30.017292</td>\n",
       "      <td>0 days 00:07:37</td>\n",
       "    </tr>\n",
       "    <tr>\n",
       "      <th>2</th>\n",
       "      <td>3</td>\n",
       "      <td>373</td>\n",
       "      <td>32</td>\n",
       "      <td>General Inquiry</td>\n",
       "      <td>2024-02-14 16:51:58.017292</td>\n",
       "      <td>16</td>\n",
       "      <td>2024-02-14 17:01:45.017292</td>\n",
       "      <td>0 days 00:09:47</td>\n",
       "    </tr>\n",
       "    <tr>\n",
       "      <th>3</th>\n",
       "      <td>4</td>\n",
       "      <td>223</td>\n",
       "      <td>8</td>\n",
       "      <td>Account</td>\n",
       "      <td>2024-07-02 20:11:00.017292</td>\n",
       "      <td>32</td>\n",
       "      <td>2024-07-02 20:12:58.017292</td>\n",
       "      <td>0 days 00:01:58</td>\n",
       "    </tr>\n",
       "    <tr>\n",
       "      <th>4</th>\n",
       "      <td>5</td>\n",
       "      <td>78</td>\n",
       "      <td>10</td>\n",
       "      <td>Billing</td>\n",
       "      <td>2024-04-03 06:02:14.017292</td>\n",
       "      <td>45</td>\n",
       "      <td>2024-04-03 06:04:10.017292</td>\n",
       "      <td>0 days 00:01:56</td>\n",
       "    </tr>\n",
       "  </tbody>\n",
       "</table>\n",
       "</div>"
      ],
      "text/plain": [
       "   ticket_id  user_id  company_id   issue_category  \\\n",
       "0          1       11          35          Account   \n",
       "1          2       32          21        Technical   \n",
       "2          3      373          32  General Inquiry   \n",
       "3          4      223           8          Account   \n",
       "4          5       78          10          Billing   \n",
       "\n",
       "                   created_at  staff_id                  matched_at  \\\n",
       "0  2024-06-13 00:15:09.017292        44  2024-06-13 00:16:54.017292   \n",
       "1  2024-03-02 11:08:53.017292        32  2024-03-02 11:16:30.017292   \n",
       "2  2024-02-14 16:51:58.017292        16  2024-02-14 17:01:45.017292   \n",
       "3  2024-07-02 20:11:00.017292        32  2024-07-02 20:12:58.017292   \n",
       "4  2024-04-03 06:02:14.017292        45  2024-04-03 06:04:10.017292   \n",
       "\n",
       "       wait_times  \n",
       "0 0 days 00:01:45  \n",
       "1 0 days 00:07:37  \n",
       "2 0 days 00:09:47  \n",
       "3 0 days 00:01:58  \n",
       "4 0 days 00:01:56  "
      ]
     },
     "execution_count": 5,
     "metadata": {},
     "output_type": "execute_result"
    }
   ],
   "source": [
    "ticket_match.head()"
   ]
  },
  {
   "cell_type": "code",
   "execution_count": null,
   "id": "836dce06-e3e3-4a03-a717-2d363f643faa",
   "metadata": {},
   "outputs": [],
   "source": [
    "# do we tell a more complicated story about why people are waiting so long\n",
    "# or do we pop open the data generator"
   ]
  },
  {
   "cell_type": "code",
   "execution_count": 6,
   "id": "6df5f678-a6cc-41f6-a619-609ade17766e",
   "metadata": {},
   "outputs": [
    {
     "data": {
      "image/png": "[encoded data removed]",
      "text/plain": [
       "<Figure size 640x480 with 1 Axes>"
      ]
     },
     "metadata": {},
     "output_type": "display_data"
    }
   ],
   "source": [
    "# wait_times.describe()\n",
    "\n",
    "plt.figure()\n",
    "plt.hist(wait_times.dt.seconds/60)\n",
    "plt.show()"
   ]
  },
  {
   "cell_type": "code",
   "execution_count": 112,
   "id": "d280e001-2e8b-43d2-8666-b0620060e8c3",
   "metadata": {},
   "outputs": [
    {
     "data": {
      "text/plain": [
       "Timestamp('2023-01-01 00:32:34')"
      ]
     },
     "execution_count": 112,
     "metadata": {},
     "output_type": "execute_result"
    }
   ],
   "source": [
    "pd.Timestamp('2023-01-01') "
   ]
  },
  {
   "cell_type": "code",
   "execution_count": 10,
   "id": "7abf8170-279b-41ce-907c-440a6f3153ce",
   "metadata": {},
   "outputs": [
    {
     "data": {
      "text/html": [
       "<div>\n",
       "<style scoped>\n",
       "    .dataframe tbody tr th:only-of-type {\n",
       "        vertical-align: middle;\n",
       "    }\n",
       "\n",
       "    .dataframe tbody tr th {\n",
       "        vertical-align: top;\n",
       "    }\n",
       "\n",
       "    .dataframe thead th {\n",
       "        text-align: right;\n",
       "    }\n",
       "</style>\n",
       "<table border=\"1\" class=\"dataframe\">\n",
       "  <thead>\n",
       "    <tr style=\"text-align: right;\">\n",
       "      <th></th>\n",
       "      <th>ticket_id</th>\n",
       "      <th>status</th>\n",
       "      <th>timestamp</th>\n",
       "    </tr>\n",
       "  </thead>\n",
       "  <tbody>\n",
       "    <tr>\n",
       "      <th>0</th>\n",
       "      <td>1</td>\n",
       "      <td>active</td>\n",
       "      <td>2024-06-13 00:16:54.017292</td>\n",
       "    </tr>\n",
       "    <tr>\n",
       "      <th>5000</th>\n",
       "      <td>1</td>\n",
       "      <td>inactive</td>\n",
       "      <td>2024-06-13 00:43:24.017292</td>\n",
       "    </tr>\n",
       "  </tbody>\n",
       "</table>\n",
       "</div>"
      ],
      "text/plain": [
       "      ticket_id    status                   timestamp\n",
       "0             1    active  2024-06-13 00:16:54.017292\n",
       "5000          1  inactive  2024-06-13 00:43:24.017292"
      ]
     },
     "execution_count": 10,
     "metadata": {},
     "output_type": "execute_result"
    }
   ],
   "source": [
    "# ticket can't start as being closed - first status should always be opened.\n",
    "# there's a logic sequence to ticket statuses, they actually should not be chosen randomly\n",
    "# active / inactive\n",
    "\n",
    "\n",
    "data[\"ticket_status\"].loc[data[\"ticket_status\"]['ticket_id'] == 1,:]"
   ]
  }
 ],
 "metadata": {
  "kernelspec": {
   "display_name": "basic",
   "language": "python",
   "name": "basic"
  },
  "language_info": {
   "codemirror_mode": {
    "name": "ipython",
    "version": 3
   },
   "file_extension": ".py",
   "mimetype": "text/x-python",
   "name": "python",
   "nbconvert_exporter": "python",
   "pygments_lexer": "ipython3",
   "version": "3.11.7"
  }
 },
 "nbformat": 4,
 "nbformat_minor": 5
}
